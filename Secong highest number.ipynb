{
 "cells": [
  {
   "cell_type": "markdown",
   "id": "81bd369e",
   "metadata": {},
   "source": [
    "# Secong highest number"
   ]
  },
  {
   "cell_type": "code",
   "execution_count": 18,
   "id": "74746c03",
   "metadata": {},
   "outputs": [],
   "source": [
    "def second_highest(numbers):\n",
    "    numbers = sorted(set(numbers))\n",
    "    return f'The second hights number in the array {numbers} is: {numbers[-2]}' if len(numbers) >= 2 else None"
   ]
  },
  {
   "cell_type": "code",
   "execution_count": 19,
   "id": "2ce2f587",
   "metadata": {},
   "outputs": [],
   "source": [
    "B = [-1,2,3]\n",
    "C = [-4,-2,-1]\n",
    "D = [0,5,3,2,1]\n",
    "E = [1,2,3,4,5,6]\n",
    "F = [-1,2,4,6,3,-5,1,5,7,8,9]"
   ]
  },
  {
   "cell_type": "code",
   "execution_count": 21,
   "id": "a549804e",
   "metadata": {},
   "outputs": [
    {
     "name": "stdout",
     "output_type": "stream",
     "text": [
      "The second hights number in the array [-1, 2, 3] is: 2\n",
      "The second hights number in the array [-4, -2, -1] is: -2\n",
      "The second hights number in the array [0, 1, 2, 3, 5] is: 3\n",
      "The second hights number in the array [1, 2, 3, 4, 5, 6] is: 5\n"
     ]
    }
   ],
   "source": [
    "print(second_highest(B))\n",
    "print(second_highest(C))\n",
    "print(second_highest(D))\n",
    "print(second_highest(E))"
   ]
  },
  {
   "cell_type": "code",
   "execution_count": null,
   "id": "1227f850",
   "metadata": {},
   "outputs": [],
   "source": []
  }
 ],
 "metadata": {
  "kernelspec": {
   "display_name": "Python 3 (ipykernel)",
   "language": "python",
   "name": "python3"
  },
  "language_info": {
   "codemirror_mode": {
    "name": "ipython",
    "version": 3
   },
   "file_extension": ".py",
   "mimetype": "text/x-python",
   "name": "python",
   "nbconvert_exporter": "python",
   "pygments_lexer": "ipython3",
   "version": "3.9.16"
  },
  "varInspector": {
   "cols": {
    "lenName": 16,
    "lenType": 16,
    "lenVar": 40
   },
   "kernels_config": {
    "python": {
     "delete_cmd_postfix": "",
     "delete_cmd_prefix": "del ",
     "library": "var_list.py",
     "varRefreshCmd": "print(var_dic_list())"
    },
    "r": {
     "delete_cmd_postfix": ") ",
     "delete_cmd_prefix": "rm(",
     "library": "var_list.r",
     "varRefreshCmd": "cat(var_dic_list()) "
    }
   },
   "types_to_exclude": [
    "module",
    "function",
    "builtin_function_or_method",
    "instance",
    "_Feature"
   ],
   "window_display": false
  }
 },
 "nbformat": 4,
 "nbformat_minor": 5
}
