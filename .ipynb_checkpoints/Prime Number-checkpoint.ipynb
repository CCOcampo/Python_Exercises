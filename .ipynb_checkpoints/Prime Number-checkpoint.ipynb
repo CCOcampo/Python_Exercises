{
 "cells": [
  {
   "cell_type": "markdown",
   "id": "5499c675",
   "metadata": {},
   "source": [
    "# Define if is a prime number"
   ]
  },
  {
   "cell_type": "code",
   "execution_count": 40,
   "id": "2edf6a4b",
   "metadata": {},
   "outputs": [],
   "source": [
    "def is_prime(n):\n",
    "    if n<2:\n",
    "        return ('The number {} is not a prime number'.format(n))\n",
    "    for i in range(2,int(n/2)+1):\n",
    "        if n % i == 0:\n",
    "            return ('The number {} is not a prime number'.format(n))\n",
    "    return ('The number {} is a prime number'.format(n))"
   ]
  },
  {
   "cell_type": "code",
   "execution_count": 41,
   "id": "036e9ea8",
   "metadata": {},
   "outputs": [
    {
     "name": "stdout",
     "output_type": "stream",
     "text": [
      "The number 15 is not a prime number\n",
      "The number 25 is not a prime number\n",
      "The number 17 is a prime number\n",
      "The number 97 is a prime number\n"
     ]
    }
   ],
   "source": [
    "print (is_prime(15))\n",
    "print (is_prime(25))\n",
    "print (is_prime(17))\n",
    "print (is_prime(97))"
   ]
  },
  {
   "cell_type": "code",
   "execution_count": null,
   "id": "023680bd",
   "metadata": {},
   "outputs": [],
   "source": []
  }
 ],
 "metadata": {
  "kernelspec": {
   "display_name": "Python 3 (ipykernel)",
   "language": "python",
   "name": "python3"
  },
  "language_info": {
   "codemirror_mode": {
    "name": "ipython",
    "version": 3
   },
   "file_extension": ".py",
   "mimetype": "text/x-python",
   "name": "python",
   "nbconvert_exporter": "python",
   "pygments_lexer": "ipython3",
   "version": "3.9.16"
  },
  "varInspector": {
   "cols": {
    "lenName": 16,
    "lenType": 16,
    "lenVar": 40
   },
   "kernels_config": {
    "python": {
     "delete_cmd_postfix": "",
     "delete_cmd_prefix": "del ",
     "library": "var_list.py",
     "varRefreshCmd": "print(var_dic_list())"
    },
    "r": {
     "delete_cmd_postfix": ") ",
     "delete_cmd_prefix": "rm(",
     "library": "var_list.r",
     "varRefreshCmd": "cat(var_dic_list()) "
    }
   },
   "types_to_exclude": [
    "module",
    "function",
    "builtin_function_or_method",
    "instance",
    "_Feature"
   ],
   "window_display": false
  }
 },
 "nbformat": 4,
 "nbformat_minor": 5
}
