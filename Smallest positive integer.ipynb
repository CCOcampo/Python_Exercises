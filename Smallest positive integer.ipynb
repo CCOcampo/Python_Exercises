{
 "cells": [
  {
   "cell_type": "markdown",
   "id": "4aafcce0",
   "metadata": {},
   "source": [
    "# Find the smallest positive integer missing from a given array."
   ]
  },
  {
   "cell_type": "code",
   "execution_count": 15,
   "id": "30fff162",
   "metadata": {},
   "outputs": [],
   "source": [
    "def solution(A):\n",
    "    if len(A) == 0:\n",
    "        return 1\n",
    "    n = len(A)\n",
    "    for i in range(n):\n",
    "        while 1 <= A[i] <= n and A[A[i]-1] != A[i]:\n",
    "            A[A[i] - 1], A[i] = A[i], A[A[i]-1]\n",
    "    for i in range(n):\n",
    "        if A[i] != i+1:\n",
    "            return i+1\n",
    "    return n+1"
   ]
  },
  {
   "cell_type": "code",
   "execution_count": 19,
   "id": "c08ca1d7",
   "metadata": {},
   "outputs": [],
   "source": [
    "A = [1,2,3,4,5,6]\n",
    "B = [-1,2,3]\n",
    "C = [-4,-2,-1]\n",
    "D = [0,5,3,2,1]"
   ]
  },
  {
   "cell_type": "code",
   "execution_count": 20,
   "id": "4b1b0ee8",
   "metadata": {},
   "outputs": [
    {
     "name": "stdout",
     "output_type": "stream",
     "text": [
      "The next positive number in the array A is: 7\n",
      "The next positive number in the array B is: 1\n",
      "The next positive number in the array C is: 1\n",
      "The next positive number in the array D is: 4\n"
     ]
    }
   ],
   "source": [
    "print('The next positive number in the array A is:', solution(A))\n",
    "print('The next positive number in the array B is:', solution(B))\n",
    "print('The next positive number in the array C is:', solution(C))\n",
    "print('The next positive number in the array D is:', solution(D))"
   ]
  },
  {
   "cell_type": "code",
   "execution_count": null,
   "id": "8d87fa17",
   "metadata": {},
   "outputs": [],
   "source": []
  }
 ],
 "metadata": {
  "kernelspec": {
   "display_name": "Python 3 (ipykernel)",
   "language": "python",
   "name": "python3"
  },
  "language_info": {
   "codemirror_mode": {
    "name": "ipython",
    "version": 3
   },
   "file_extension": ".py",
   "mimetype": "text/x-python",
   "name": "python",
   "nbconvert_exporter": "python",
   "pygments_lexer": "ipython3",
   "version": "3.9.16"
  },
  "varInspector": {
   "cols": {
    "lenName": 16,
    "lenType": 16,
    "lenVar": 40
   },
   "kernels_config": {
    "python": {
     "delete_cmd_postfix": "",
     "delete_cmd_prefix": "del ",
     "library": "var_list.py",
     "varRefreshCmd": "print(var_dic_list())"
    },
    "r": {
     "delete_cmd_postfix": ") ",
     "delete_cmd_prefix": "rm(",
     "library": "var_list.r",
     "varRefreshCmd": "cat(var_dic_list()) "
    }
   },
   "types_to_exclude": [
    "module",
    "function",
    "builtin_function_or_method",
    "instance",
    "_Feature"
   ],
   "window_display": false
  }
 },
 "nbformat": 4,
 "nbformat_minor": 5
}
